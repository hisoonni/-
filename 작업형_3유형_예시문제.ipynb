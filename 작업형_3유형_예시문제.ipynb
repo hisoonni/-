{
  "nbformat": 4,
  "nbformat_minor": 0,
  "metadata": {
    "colab": {
      "provenance": [],
      "mount_file_id": "10_GI2jzFN_yWlcLoVJRPPbJhnDr0bYrS",
      "authorship_tag": "ABX9TyMrbb7CCvhkEkq/qEZ60X7Z",
      "include_colab_link": true
    },
    "kernelspec": {
      "name": "python3",
      "display_name": "Python 3"
    },
    "language_info": {
      "name": "python"
    }
  },
  "cells": [
    {
      "cell_type": "markdown",
      "metadata": {
        "id": "view-in-github",
        "colab_type": "text"
      },
      "source": [
        "<a href=\"https://colab.research.google.com/github/hisoonni/bigdata/blob/main/%EC%9E%91%EC%97%85%ED%98%95_3%EC%9C%A0%ED%98%95_%EC%98%88%EC%8B%9C%EB%AC%B8%EC%A0%9C.ipynb\" target=\"_parent\"><img src=\"https://colab.research.google.com/assets/colab-badge.svg\" alt=\"Open In Colab\"/></a>"
      ]
    },
    {
      "cell_type": "markdown",
      "source": [
        "주어진 데이터는 고혈압 환자 치료 전후의 혈압이다.\n",
        "해당 치료가 효과가 있는지 대응(쌍체)표본 t-검정을 진행하시오\n",
        "\n",
        "- 귀무가설(H0):  μ>= 0\n",
        "- 대립가설(H1):  μ< 0\n",
        "- μ= (치료 후 혈압 - 치료 전 혈압)의 평균\n",
        "- 유의수준: 0.05\n",
        "\n",
        "1. μ의 표본평균은?(소수 둘째자리까지 반올림)\n",
        "2. 검정통계량 값은?:(소수 넷째자리까지 반올림)\n",
        "3. p-값은?(소수 넷째자리까지 반올림)\n",
        "4. 가설검정의 결과는? (유의수준 5%)"
      ],
      "metadata": {
        "id": "4naBT3jEA62z"
      }
    },
    {
      "cell_type": "code",
      "execution_count": 1,
      "metadata": {
        "id": "OE0JQ-zCAvG9"
      },
      "outputs": [],
      "source": [
        "import pandas as pd\n",
        "pd = pd.read_csv(\"/content/drive/MyDrive/빅데이터분석기사/high_blood_pressure.csv\")"
      ]
    },
    {
      "cell_type": "markdown",
      "source": [
        "**풀이**"
      ],
      "metadata": {
        "id": "W-aVzFEjBuhg"
      }
    },
    {
      "cell_type": "code",
      "source": [
        "import pandas as pd\n",
        "from scipy import stats\n",
        "df = pd.read_csv(\"/content/drive/MyDrive/빅데이터분석기사/high_blood_pressure.csv\")\n",
        "\n",
        "df['diff'] = df['bp_post'] - df['bp_pre']\n",
        "\n",
        "st,pv = stats.ttest_rel(df['bp_post'], df['bp_pre'], alternative=\"less\")"
      ],
      "metadata": {
        "id": "dPTHDBMUBsXJ"
      },
      "execution_count": 10,
      "outputs": []
    },
    {
      "cell_type": "code",
      "source": [
        "#1 μ의 표본평균 (소수 둘째자리까지 반올림)\n",
        "print(round(df['diff'].mean(),2))"
      ],
      "metadata": {
        "colab": {
          "base_uri": "https://localhost:8080/"
        },
        "id": "d4077J0kCnqy",
        "outputId": "09355f09-bd35-4bac-84d7-39452df90861"
      },
      "execution_count": 11,
      "outputs": [
        {
          "output_type": "stream",
          "name": "stdout",
          "text": [
            "-6.12\n"
          ]
        }
      ]
    },
    {
      "cell_type": "code",
      "source": [
        "#2 검정통계량 값 (소수 넷째자리까지 반올림)\n",
        "print(round(st,4))"
      ],
      "metadata": {
        "colab": {
          "base_uri": "https://localhost:8080/"
        },
        "id": "1h3WNtycC2GN",
        "outputId": "c4c1d01e-80ec-4f82-a96f-176604ca11ff"
      },
      "execution_count": 12,
      "outputs": [
        {
          "output_type": "stream",
          "name": "stdout",
          "text": [
            "-3.0002\n"
          ]
        }
      ]
    },
    {
      "cell_type": "code",
      "source": [
        "#3 p-값 (소수 넷째자리까지 반올림)\n",
        "print(round(pv,4))"
      ],
      "metadata": {
        "colab": {
          "base_uri": "https://localhost:8080/"
        },
        "id": "9h-zhqIiC5aR",
        "outputId": "319d80a3-d482-4166-be14-51b8c1bef9ec"
      },
      "execution_count": 13,
      "outputs": [
        {
          "output_type": "stream",
          "name": "stdout",
          "text": [
            "0.0016\n"
          ]
        }
      ]
    },
    {
      "cell_type": "code",
      "source": [
        "#4 가설검정 결과\n",
        "# 귀무가설 기각, 대립가설 채택"
      ],
      "metadata": {
        "id": "eLWv9YGmC8cY"
      },
      "execution_count": 14,
      "outputs": []
    },
    {
      "cell_type": "code",
      "source": [],
      "metadata": {
        "id": "FtsxmgBGDB-9"
      },
      "execution_count": null,
      "outputs": []
    }
  ]
}