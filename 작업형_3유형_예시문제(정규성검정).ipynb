{
  "nbformat": 4,
  "nbformat_minor": 0,
  "metadata": {
    "colab": {
      "provenance": [],
      "authorship_tag": "ABX9TyPfvfYt7nSF0+ulVR9ukqRz",
      "include_colab_link": true
    },
    "kernelspec": {
      "name": "python3",
      "display_name": "Python 3"
    },
    "language_info": {
      "name": "python"
    }
  },
  "cells": [
    {
      "cell_type": "markdown",
      "metadata": {
        "id": "view-in-github",
        "colab_type": "text"
      },
      "source": [
        "<a href=\"https://colab.research.google.com/github/hisoonni/bigdata/blob/main/%EC%9E%91%EC%97%85%ED%98%95_3%EC%9C%A0%ED%98%95_%EC%98%88%EC%8B%9C%EB%AC%B8%EC%A0%9C(%EC%A0%95%EA%B7%9C%EC%84%B1%EA%B2%80%EC%A0%95).ipynb\" target=\"_parent\"><img src=\"https://colab.research.google.com/assets/colab-badge.svg\" alt=\"Open In Colab\"/></a>"
      ]
    },
    {
      "cell_type": "markdown",
      "source": [
        "## **정규성 검정**"
      ],
      "metadata": {
        "id": "KtgdtEWzHx8J"
      }
    },
    {
      "cell_type": "markdown",
      "source": [
        "12명의 수험생이 빅데이터 분석기사 시험에서 받은 점수이다. Shapiro-Wilk 검정을 사용하여 데이터가 정규 분포를 따르는지 검증하시오\n",
        "- 귀무 가설(H0): 데이터는 정규 분포를 따른다.\n",
        "- 대립 가설(H1): 데이터는 정규 분포를 따르지 않는다.\n",
        "\n",
        "**Shapiro-Wilk 검정 통계량, p-value, 검증결과를 출력하시오**"
      ],
      "metadata": {
        "id": "PHS7wLHLH2K-"
      }
    },
    {
      "cell_type": "code",
      "source": [
        "data = [75, 83, 81, 92, 68, 77, 78, 80, 85, 95, 79, 89]"
      ],
      "metadata": {
        "id": "TNXr2QjzH8fQ"
      },
      "execution_count": 1,
      "outputs": []
    },
    {
      "cell_type": "code",
      "execution_count": 2,
      "metadata": {
        "id": "tZ3bRYPDHwMM"
      },
      "outputs": [],
      "source": [
        "from scipy import stats\n",
        "\n",
        "data = [75, 83, 81, 92, 68, 77, 78, 80, 85, 95, 79, 89]\n",
        "\n",
        "# Shapiro-Wilk 검정 수행\n",
        "statistic, p_value = stats.shapiro(data)"
      ]
    },
    {
      "cell_type": "code",
      "source": [
        "# 결과 출력\n",
        "print(\"Shapiro-Wilk 검정 통계량:\", statistic)\n",
        "print(\"p-value:\", p_value)\n",
        "\n",
        "# 유의 수준 0.05에서의 검정 결과 확인\n",
        "alpha = 0.05\n",
        "if p_value > alpha:\n",
        "    print(\"귀무 가설을 기각할 수 없다. 데이터는 정규 분포를 따름\")\n",
        "else:\n",
        "    print(\"귀무 가설을 기각한다. 데이터는 정규 분포를 따르지 않음\")"
      ],
      "metadata": {
        "colab": {
          "base_uri": "https://localhost:8080/"
        },
        "id": "6gAhEPojIDip",
        "outputId": "22ad3098-4026-4366-b031-985db2594e35"
      },
      "execution_count": 3,
      "outputs": [
        {
          "output_type": "stream",
          "name": "stdout",
          "text": [
            "Shapiro-Wilk 검정 통계량: 0.9768089652061462\n",
            "p-value: 0.9676492810249329\n",
            "귀무 가설을 기각할 수 없다. 데이터는 정규 분포를 따름\n"
          ]
        }
      ]
    },
    {
      "cell_type": "code",
      "source": [],
      "metadata": {
        "id": "3Sfv6DQZIE0k"
      },
      "execution_count": null,
      "outputs": []
    }
  ]
}