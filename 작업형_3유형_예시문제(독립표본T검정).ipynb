{
  "nbformat": 4,
  "nbformat_minor": 0,
  "metadata": {
    "colab": {
      "provenance": [],
      "authorship_tag": "ABX9TyNnirq6xWDjRiXdUN8wVTGs",
      "include_colab_link": true
    },
    "kernelspec": {
      "name": "python3",
      "display_name": "Python 3"
    },
    "language_info": {
      "name": "python"
    }
  },
  "cells": [
    {
      "cell_type": "markdown",
      "metadata": {
        "id": "view-in-github",
        "colab_type": "text"
      },
      "source": [
        "<a href=\"https://colab.research.google.com/github/hisoonni/bigdata/blob/main/%EC%9E%91%EC%97%85%ED%98%95_3%EC%9C%A0%ED%98%95_%EC%98%88%EC%8B%9C%EB%AC%B8%EC%A0%9C(%EB%8F%85%EB%A6%BD%ED%91%9C%EB%B3%B8T%EA%B2%80%EC%A0%95).ipynb\" target=\"_parent\"><img src=\"https://colab.research.google.com/assets/colab-badge.svg\" alt=\"Open In Colab\"/></a>"
      ]
    },
    {
      "cell_type": "markdown",
      "source": [
        "## **독립표본 T검정**"
      ],
      "metadata": {
        "id": "wAaPqM-qEFmy"
      }
    },
    {
      "cell_type": "markdown",
      "source": [
        "어떤 특정 약물을 복용한 사람들의 평균 체온이 복용하지 않은 사람들의 평균 체온과 유의미하게 다른지 검정해보려고 합니다.¶\n",
        "\n",
        "가정:\n",
        "- 약물을 복용한 그룹과 복용하지 않은 그룹의 체온 데이터가 각각 주어져 있다고 가정합니다.\n",
        "- 각 그룹의 체온은 정규분포를 따른다고 가정합니다.\n",
        "\n",
        "검정통계량, p-value, 검정결과를 출력하시오"
      ],
      "metadata": {
        "id": "j2SGZVBQENtb"
      }
    },
    {
      "cell_type": "code",
      "execution_count": 1,
      "metadata": {
        "id": "FEelxVFKDZuD"
      },
      "outputs": [],
      "source": [
        "from scipy import stats\n",
        "\n",
        "# 가설 설정\n",
        "# H0: 약물을 복용한 그룹과 복용하지 않은 그룹의 평균 체온은 유의미한 차이가 없다.\n",
        "# H1: 약물을 복용한 그룹과 복용하지 않은 그룹의 평균 체온은 유의미한 차이가 있다."
      ]
    },
    {
      "cell_type": "code",
      "source": [
        "# 데이터 수집\n",
        "group1 = [36.8, 36.7, 37.1, 36.9, 37.2, 36.8, 36.9, 37.1, 36.7, 37.1]\n",
        "group2 = [36.5, 36.6, 36.3, 36.6, 36.9, 36.7, 36.7, 36.8, 36.5, 36.7]"
      ],
      "metadata": {
        "id": "S_qNM3KLETaq"
      },
      "execution_count": 2,
      "outputs": []
    },
    {
      "cell_type": "code",
      "source": [
        "# 가설검정\n",
        "t_statistic, p_value = stats.ttest_ind(group1, group2)\n",
        "\n",
        "print(\"검정통계량:\", t_statistic)\n",
        "print(\"p-value:\", p_value)"
      ],
      "metadata": {
        "colab": {
          "base_uri": "https://localhost:8080/"
        },
        "id": "I7qe5b9uEY07",
        "outputId": "e78f147f-ea6f-4467-d7bb-7a1eaba64a73"
      },
      "execution_count": 3,
      "outputs": [
        {
          "output_type": "stream",
          "name": "stdout",
          "text": [
            "검정통계량: 3.7964208654863336\n",
            "p-value: 0.001321891476703691\n"
          ]
        }
      ]
    },
    {
      "cell_type": "code",
      "source": [
        "# 유의성 검정\n",
        "alpha = 0.05  # 유의수준 설정\n",
        "\n",
        "if p_value < alpha:\n",
        "    print(\"귀무가설을 기각합니다. 약물을 복용한 그룹과 복용하지 않은 그룹의 평균 체온은 유의미한 차이가 있습니다.\")\n",
        "else:\n",
        "    print(\"귀무가설을 채택합니다. 약물을 복용한 그룹과 복용하지 않은 그룹의 평균 체온은 유의미한 차이가 없습니다.\")\n"
      ],
      "metadata": {
        "colab": {
          "base_uri": "https://localhost:8080/"
        },
        "id": "KitmwwMSEa7_",
        "outputId": "ec916c3d-1d80-440d-d601-be50643bbe7b"
      },
      "execution_count": 4,
      "outputs": [
        {
          "output_type": "stream",
          "name": "stdout",
          "text": [
            "귀무가설을 기각합니다. 약물을 복용한 그룹과 복용하지 않은 그룹의 평균 체온은 유의미한 차이가 있습니다.\n"
          ]
        }
      ]
    },
    {
      "cell_type": "code",
      "source": [],
      "metadata": {
        "id": "BYlXge0uEiHw"
      },
      "execution_count": null,
      "outputs": []
    }
  ]
}