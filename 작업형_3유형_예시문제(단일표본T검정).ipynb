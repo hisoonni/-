{
  "nbformat": 4,
  "nbformat_minor": 0,
  "metadata": {
    "colab": {
      "provenance": [],
      "authorship_tag": "ABX9TyOljz1xPjKg1cKQ4PKIbZsJ",
      "include_colab_link": true
    },
    "kernelspec": {
      "name": "python3",
      "display_name": "Python 3"
    },
    "language_info": {
      "name": "python"
    }
  },
  "cells": [
    {
      "cell_type": "markdown",
      "metadata": {
        "id": "view-in-github",
        "colab_type": "text"
      },
      "source": [
        "<a href=\"https://colab.research.google.com/github/hisoonni/bigdata/blob/main/%EC%9E%91%EC%97%85%ED%98%95_3%EC%9C%A0%ED%98%95_%EC%98%88%EC%8B%9C%EB%AC%B8%EC%A0%9C(%EB%8B%A8%EC%9D%BC%ED%91%9C%EB%B3%B8T%EA%B2%80%EC%A0%95).ipynb\" target=\"_parent\"><img src=\"https://colab.research.google.com/assets/colab-badge.svg\" alt=\"Open In Colab\"/></a>"
      ]
    },
    {
      "cell_type": "markdown",
      "source": [
        "## **단일표본 T검정**"
      ],
      "metadata": {
        "id": "VT_TjEsCEy4Q"
      }
    },
    {
      "cell_type": "markdown",
      "source": [
        "문제: 다음은 22명의 학생들이 국어시험에서 받은 점수이다. 학생들의 평균이 75보다 크다고 할 수 있는가?\n",
        "- 귀무가설(H0): 모평균은 mu와 같다. (μ = mu), 학생들의 평균은 75이다\n",
        "- 대립가설(H1): 모평균은 mu보다 크다. (μ > mu), 학생들의 평균은 75보다 크다\n",
        "\n",
        "가정:\n",
        "- 모집단은 정규분포를 따른다.\n",
        "- 표본의 크기가 충분히 크다.\n",
        "\n",
        "**검정통계량, p-value, 검정결과를 출력하시오**"
      ],
      "metadata": {
        "id": "-yUKEAykE1qm"
      }
    },
    {
      "cell_type": "code",
      "execution_count": 1,
      "metadata": {
        "id": "lga_nq5tEvGe"
      },
      "outputs": [],
      "source": [
        "from scipy.stats import ttest_1samp\n",
        "\n",
        "# 데이터\n",
        "scores = [75, 80, 68, 72, 77, 82, 81, 79, 70, 74, 76, 78, 81, 73, 81, 78, 75, 72, 74, 79, 78, 79]"
      ]
    },
    {
      "cell_type": "code",
      "source": [
        "# 모평균 가설검정\n",
        "mu = 75  # 검정할 모평균\n",
        "alpha = 0.05  # 유의수준\n",
        "\n",
        "# t-test를 사용하여 가설 검정\n",
        "t_statistic, p_value = ttest_1samp(scores, mu, alternative='greater')"
      ],
      "metadata": {
        "id": "lC2rNWdAFAV4"
      },
      "execution_count": 2,
      "outputs": []
    },
    {
      "cell_type": "code",
      "source": [
        "# 결과 출력\n",
        "print(\"t-statistic:\", t_statistic)\n",
        "print(\"p-value:\", p_value)\n",
        "\n",
        "if p_value < alpha:\n",
        "    print(\"귀무가설을 기각합니다. 모평균은 75보다 크다.\")\n",
        "else:\n",
        "    print(\"귀무가설을 채택합니다. 모평균은 75보다 크지 않다.\")"
      ],
      "metadata": {
        "colab": {
          "base_uri": "https://localhost:8080/"
        },
        "id": "tUCWmrYpFD3l",
        "outputId": "7cd40170-aa50-4ba4-ca14-c91a4a847f53"
      },
      "execution_count": 4,
      "outputs": [
        {
          "output_type": "stream",
          "name": "stdout",
          "text": [
            "t-statistic: 1.765879233231226\n",
            "p-value: 0.04597614747709146\n",
            "귀무가설을 기각합니다. 모평균은 75보다 크다.\n"
          ]
        }
      ]
    }
  ]
}